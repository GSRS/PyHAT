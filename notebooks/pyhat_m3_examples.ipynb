{
 "cells": [
  {
   "cell_type": "code",
   "execution_count": 1,
   "metadata": {},
   "outputs": [
    {
     "name": "stdout",
     "output_type": "stream",
     "text": [
      "Populating the interactive namespace from numpy and matplotlib\n"
     ]
    }
   ],
   "source": [
    "from plio.io.io_moon_minerology_mapper import M3\n",
    "from libpyhat.derived.m3 import pipe\n",
    "from libpyhat.derived.m3 import new\n",
    "import libpyhat as phat\n",
    "from libpyhat.examples import get_path\n",
    "\n",
    "%pylab inline\n",
    "\n",
    "# Further documentation on LibPyHat can be found at: \n",
    "# https://usgs-astrogeology.github.io/PyHAT/"
   ]
  },
  {
   "cell_type": "markdown",
   "metadata": {},
   "source": [
    "# How to open an Image"
   ]
  },
  {
   "cell_type": "code",
   "execution_count": 2,
   "metadata": {},
   "outputs": [],
   "source": [
    "# First, get the path of the file that contains the image you want to view.\n",
    "# In this example, the program will search for and use the file \"M3_4030seg_L2_aristcrater.tif\"\n",
    "# using the \"get_path\" function.\n",
    "filepath = get_path('M3_4030seg_L2_aristcrater.tif')\n",
    "\n",
    "# Next, use the M3 constructor found in the plio module to open the image\n",
    "# by feeding it the filepath.\n",
    "image = M3(filepath)\n",
    "\n",
    "# In this case, the variable \"image\" can now be used as a reference to the given M3 image."
   ]
  },
  {
   "cell_type": "markdown",
   "metadata": {},
   "source": [
    "# How to Display a Single Band (By Index)"
   ]
  },
  {
   "cell_type": "code",
   "execution_count": 3,
   "metadata": {},
   "outputs": [
    {
     "data": {
      "text/plain": [
       "<matplotlib.colorbar.Colorbar at 0x7f2740488588>"
      ]
     },
     "execution_count": 3,
     "metadata": {},
     "output_type": "execute_result"
    },
    {
     "data": {
      "image/png": "[encoded data removed]",
      "text/plain": [
       "<Figure size 432x288 with 2 Axes>"
      ]
     },
     "metadata": {
      "needs_background": "light"
     },
     "output_type": "display_data"
    }
   ],
   "source": [
    "# First,open the desired .tif image and store it in a variable, as shown in the previous cell.\n",
    "\n",
    "# The \"get_path\" function can be used inside of the M3 object constructor to achieve the same effect.\n",
    "tif_image = M3(get_path('M3_4030seg_L2_aristcrater.tif'))\n",
    "\n",
    "# Next, run the function to display the band.\n",
    "# The image[n] parameter is used to select the index (n) \n",
    "# The cmap parameter is used to select the color mapping.\n",
    "\n",
    "# Some color mapping options include:'Greys', 'Purples', 'Blues', 'Greens', 'Oranges', 'Reds',\n",
    "#                                    'YlOrBr', 'YlOrRd', 'OrRd', 'PuRd', 'RdPu', 'BuPu',\n",
    "#                                    'GnBu', 'PuBu', 'YlGnBu', 'PuBuGn', 'BuGn', 'YlGn'\n",
    "\n",
    "imshow(tif_image[0], cmap='Greys')\n",
    "\n",
    "# Finally, display the associated color key (colorbar) alongside the band.\n",
    "colorbar()"
   ]
  },
  {
   "cell_type": "markdown",
   "metadata": {},
   "source": [
    "# How to Display a Single Band (By Label)"
   ]
  },
  {
   "cell_type": "code",
   "execution_count": 4,
   "metadata": {},
   "outputs": [
    {
     "data": {
      "text/plain": [
       "<matplotlib.colorbar.Colorbar at 0x7f27403ebac8>"
      ]
     },
     "execution_count": 4,
     "metadata": {},
     "output_type": "execute_result"
    },
    {
     "data": {
      "image/png": "[encoded data removed]",
      "text/plain": [
       "<Figure size 432x288 with 2 Axes>"
      ]
     },
     "metadata": {
      "needs_background": "light"
     },
     "output_type": "display_data"
    }
   ],
   "source": [
    "# First,open the desired .tif image and store it in a variable.\n",
    "tif_image = M3(get_path('M3_4030seg_L2_aristcrater.tif'))\n",
    "\n",
    "# Next, run the function to display the band.\n",
    "# The image.loc[label] parameter is used to select the label. \n",
    "# The cmap parameter is used to select the color mapping.\n",
    "\n",
    "# Color mapping options include:'Greys', 'Purples', 'Blues', 'Greens', 'Oranges', 'Reds',\n",
    "#                               'YlOrBr', 'YlOrRd', 'OrRd', 'PuRd', 'RdPu', 'BuPu',\n",
    "#                               'GnBu', 'PuBu', 'YlGnBu', 'PuBuGn', 'BuGn', 'YlGn'\n",
    "\n",
    "imshow(tif_image.loc[700], cmap='Greys')\n",
    "colorbar()\n"
   ]
  },
  {
   "cell_type": "markdown",
   "metadata": {},
   "source": [
    "# How to generate an olivine derived image"
   ]
  },
  {
   "cell_type": "code",
   "execution_count": 5,
   "metadata": {},
   "outputs": [
    {
     "name": "stderr",
     "output_type": "stream",
     "text": [
      "/home/egault/anaconda3/envs/pyhat/lib/python3.6/site-packages/plio/utils/indexing.py:64: UserWarning: Absolute difference between requested value and found values is 10.610000000000014\n",
      "  warnings.warn(\"Absolute difference between requested value and found values is {}\".format(vals[minidx]))\n",
      "/home/egault/anaconda3/envs/pyhat/lib/python3.6/site-packages/plio/utils/indexing.py:64: UserWarning: Absolute difference between requested value and found values is 9.75\n",
      "  warnings.warn(\"Absolute difference between requested value and found values is {}\".format(vals[minidx]))\n",
      "/home/egault/anaconda3/envs/pyhat/lib/python3.6/site-packages/plio/utils/indexing.py:64: UserWarning: Absolute difference between requested value and found values is 2.869999999999891\n",
      "  warnings.warn(\"Absolute difference between requested value and found values is {}\".format(vals[minidx]))\n",
      "/home/egault/anaconda3/envs/pyhat/lib/python3.6/site-packages/plio/utils/indexing.py:64: UserWarning: Absolute difference between requested value and found values is 11.440000000000055\n",
      "  warnings.warn(\"Absolute difference between requested value and found values is {}\".format(vals[minidx]))\n"
     ]
    }
   ],
   "source": [
    "# First,open the desired .tif image and store it in a variable.\n",
    "tif_image = M3(get_path('M3_4030seg_L2_aristcrater.tif'))\n",
    "\n",
    "# Getting warnings for passing in the M3 object directly.\n",
    "olivine_index_result = pipe.olindex(tif_image)"
   ]
  },
  {
   "cell_type": "markdown",
   "metadata": {},
   "source": [
    "# How to Display in Multi-Band (RGB 'mustard' Derived Image)"
   ]
  },
  {
   "cell_type": "code",
   "execution_count": 6,
   "metadata": {},
   "outputs": [
    {
     "name": "stderr",
     "output_type": "stream",
     "text": [
      "/home/egault/Desktop/pyhat_work/PyHAT-dev/PyHAT-dev/notebooks/libpyhat/derived/utils.py:192: UserWarning: Parameters involving some of the visible wavelengths ( < 600 nm) are not recommended for use. Parameters modeled after Clementine data are also not recommended. Original parameter estimates for OH and H2O should NOT be included.\n",
      "  warnings.warn('Parameters involving some of the visible wavelengths ( < 600 nm) are not recommended for use. Parameters modeled after Clementine data are also not recommended. Original parameter estimates for OH and H2O should NOT be included.')\n"
     ]
    }
   ],
   "source": [
    "# First,open the desired .tif image and store it in a variable.\n",
    "tif_image = M3(get_path('M3_4030seg_L2_aristcrater.tif'))\n",
    "\n",
    "# Getting warnings for passing in the M3 object directly.\n",
    "mustard_result = new.mustard(tif_image)"
   ]
  },
  {
   "cell_type": "markdown",
   "metadata": {},
   "source": [
    "# Bonus: How to Display Two or More Single-Band Images at Once"
   ]
  },
  {
   "cell_type": "code",
   "execution_count": 7,
   "metadata": {},
   "outputs": [
    {
     "data": {
      "image/png": "[encoded data removed]",
      "text/plain": [
       "<Figure size 432x288 with 2 Axes>"
      ]
     },
     "metadata": {},
     "output_type": "display_data"
    }
   ],
   "source": [
    "# First,open the desired .tif image and store it in a variable.\n",
    "tif_image = M3(get_path('M3_4030seg_L2_aristcrater.tif'))\n",
    "\n",
    "# Initialize the array to hold all of the band images.\n",
    "images = []\n",
    "\n",
    "# Specify how many bands you want to display.\n",
    "number_of_images = 2\n",
    "\n",
    "# Create the figure object that will hold the band images within subplots.\n",
    "figure1, axes1 = subplots(number_of_images)\n",
    "\n",
    "# Choose a title, if you want.\n",
    "figure1.suptitle('Two or More Images:')\n",
    "\n",
    "# Add the band images to the image array:\n",
    "\n",
    "# axes[n] selects the row in which the image will be displayed (n).\n",
    "\n",
    "# tif_image[i] selects band via index (i) from the tif image. \n",
    "# Note: 'tif_image.loc[label]' can also be used in order to select the band by label.\n",
    "\n",
    "# The cmap parameter is used to select the color mapping.\n",
    "# Color mapping options include:'Greys', 'Purples', 'Blues', 'Greens', 'Oranges', 'Reds',\n",
    "#                               'YlOrBr', 'YlOrRd', 'OrRd', 'PuRd', 'RdPu', 'BuPu',\n",
    "#                               'GnBu', 'PuBu', 'YlGnBu', 'PuBuGn', 'BuGn', 'YlGn'\n",
    "\n",
    "images.append(axes1[0].imshow(tif_image[0], cmap='Greys'))\n",
    "\n",
    "\n",
    "images.append(axes1[1].imshow(tif_image[50], cmap='Greys'))\n",
    "\n",
    "# By default, subplots have x and y tick labels, so this loop will remove them.\n",
    "for axi in axes1:\n",
    "    axi.set_xticks([])\n",
    "    axi.set_yticks([])\n",
    "\n",
    "\n",
    "\n",
    "# This could be useful for future applications, where someone may want to compare two or more specific bands.\n",
    "# Running two imshows in a row would normally overwrite the previous imshow, so a matplotlib figure object\n",
    "# can be used to remedy this.\n",
    "# However, refactoring to make the code easier to manipulate and read would be ideal.\n",
    "# At the moment, I'm not sure how to resize the image, or add a colorbar to each of them."
   ]
  },
  {
   "cell_type": "code",
   "execution_count": null,
   "metadata": {},
   "outputs": [],
   "source": []
  }
 ],
 "metadata": {
  "kernelspec": {
   "display_name": "Python 3",
   "language": "python",
   "name": "python3"
  },
  "language_info": {
   "codemirror_mode": {
    "name": "ipython",
    "version": 3
   },
   "file_extension": ".py",
   "mimetype": "text/x-python",
   "name": "python",
   "nbconvert_exporter": "python",
   "pygments_lexer": "ipython3",
   "version": "3.6.7"
  }
 },
 "nbformat": 4,
 "nbformat_minor": 2
}
